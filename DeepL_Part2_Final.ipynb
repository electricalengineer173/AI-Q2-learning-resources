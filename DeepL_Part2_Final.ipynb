{
  "nbformat": 4,
  "nbformat_minor": 0,
  "metadata": {
    "colab": {
      "name": "DeepL_Part2 Final.ipynb",
      "provenance": [],
      "collapsed_sections": [],
      "include_colab_link": true
    },
    "kernelspec": {
      "name": "python3",
      "display_name": "Python 3"
    },
    "language_info": {
      "name": "python"
    }
  },
  "cells": [
    {
      "cell_type": "markdown",
      "metadata": {
        "id": "view-in-github",
        "colab_type": "text"
      },
      "source": [
        "<a href=\"https://colab.research.google.com/github/electricalengineer173/AI-Q2-learning-resources/blob/master/DeepL_Part2_Final.ipynb\" target=\"_parent\"><img src=\"https://colab.research.google.com/assets/colab-badge.svg\" alt=\"Open In Colab\"/></a>"
      ]
    },
    {
      "cell_type": "markdown",
      "metadata": {
        "id": "2Lw7OdtlfSY5"
      },
      "source": [
        "Description of the data\n",
        "The file \"Spotify.csv\" contains the following 18 columns:\n",
        "\n",
        "• **ID** : unique identifier of the piece\n",
        "\n",
        "• **Artists** : artists who participated in the piece\n",
        "\n",
        "• **Title** : pulls the piece\n",
        "\n",
        "• **Duration**: duration of the song in milliseconds\n",
        "\n",
        "• **Year** : year of release of the song\n",
        "\n",
        "• **Valence**: a measure from 0.0 to 1.0 describing the musical positivity conveyed by a song. High\n",
        "valence songs sound more positive (e.g. happy, joyful, euphoric), while low valence songs sound\n",
        "more negative (e.g. sad, depressed, angry)\n",
        "\n",
        "• **Acoustics**: a confidence measure from 0.0 to 1.0 of the acoustics of the piece. The value 1.0\n",
        "represents a high level of confidence that the piece is acoustic\n",
        "\n",
        "• **Danceability**: ability of a piece to be danced according to a combination of musical elements. The\n",
        "value 0.0 is the least danceable and the value 1.0 is the most danceable\n",
        "\n",
        "• **Energy**: a measure of 0.0 to 1.0 which represents a measure of activity. In general, the energetic\n",
        "pieces are fast and noisy\n",
        "\n",
        "• **Explicit**: indicates whether the lyrics contain explicit content or not\n",
        "\n",
        "• **Instrumental**: confidence measure from 0.0 to 1.0 related to the vocal. The closer the value is to\n",
        "1.0, the more likely it is that the song does not contain any vocal content\n",
        "\n",
        "• **Tone**: the estimated overall tone of the song\n",
        "\n",
        "• **Direct**: detects the presence of an audience in the recording. Higher values represent a higher\n",
        "probability that the song was played in front of an audience\n",
        "\n",
        "• **Intensity**: the overall sound intensity of a piece in decibels (dB). The values of the sound intensity\n",
        "are calculated as an average over the whole piece\n",
        "\n",
        "• **Mode**: the mode indicates the modality (major or minor) of a piece, the type of scale from which\n",
        "its melodic content is derived\n",
        "\n",
        "• **Speech** : Speech detects the presence of spoken words in a piece. The more the recording is\n",
        "exclusively vocal (e.g. talk show, audio book, poetry), the closer the value of the attribute is to 1.0\n",
        "\n",
        "• **Tempo**: the estimated global tempo of a song in beats per minute\n",
        "\n",
        "• **Popularity**: The popularity of a track is a value between 0 and 100, with 100 being the most\n",
        "popular. Popularity is calculated by Spotify and is based, in large part, on the total number of plays\n",
        "of the track and how recent they are."
      ]
    },
    {
      "cell_type": "code",
      "metadata": {
        "id": "fYkxMH98xZzn"
      },
      "source": [
        "# Importing libraries \n",
        "import numpy as np\n",
        "import pandas as pd\n",
        "import matplotlib.pyplot as plt\n",
        "import seaborn as sns"
      ],
      "execution_count": 1,
      "outputs": []
    },
    {
      "cell_type": "markdown",
      "metadata": {
        "id": "Z8cb8f1j4e65"
      },
      "source": [
        "1) **Discuss 4 Findings related to the variable \"Popularty\" with  graphs deemed relevant** \n",
        "\n"
      ]
    },
    {
      "cell_type": "code",
      "metadata": {
        "id": "JwWnABYkxip0"
      },
      "source": [
        "# loading Data into df\n",
        "df = pd.read_csv(\"Spotify.csv\",sep=',')"
      ],
      "execution_count": 2,
      "outputs": []
    },
    {
      "cell_type": "code",
      "metadata": {
        "colab": {
          "base_uri": "https://localhost:8080/"
        },
        "id": "CXnXhpCk1sqx",
        "outputId": "a40658e8-10f6-4be4-e88b-503edc049744"
      },
      "source": [
        "#determining shape ==>(rows,column)\n",
        "df.shape"
      ],
      "execution_count": 3,
      "outputs": [
        {
          "output_type": "execute_result",
          "data": {
            "text/plain": [
              "(170653, 18)"
            ]
          },
          "metadata": {
            "tags": []
          },
          "execution_count": 3
        }
      ]
    },
    {
      "cell_type": "code",
      "metadata": {
        "id": "0928kZaOx6Tp"
      },
      "source": [
        "#df.head()"
      ],
      "execution_count": 4,
      "outputs": []
    },
    {
      "cell_type": "markdown",
      "metadata": {
        "id": "E0i5tFS1--f8"
      },
      "source": [
        ""
      ]
    },
    {
      "cell_type": "code",
      "metadata": {
        "colab": {
          "base_uri": "https://localhost:8080/"
        },
        "id": "S4xipHzz3nO4",
        "outputId": "6e8e5e2b-c436-4729-c47c-1df6a279b37a"
      },
      "source": [
        "#Checking info of dataframe such as number of columns and their data type\n",
        "df.info()"
      ],
      "execution_count": 5,
      "outputs": [
        {
          "output_type": "stream",
          "text": [
            "<class 'pandas.core.frame.DataFrame'>\n",
            "RangeIndex: 170653 entries, 0 to 170652\n",
            "Data columns (total 18 columns):\n",
            " #   Column        Non-Null Count   Dtype  \n",
            "---  ------        --------------   -----  \n",
            " 0   ID            170653 non-null  object \n",
            " 1   Artistes      170653 non-null  object \n",
            " 2   Titre         170653 non-null  object \n",
            " 3   Durée         170653 non-null  int64  \n",
            " 4   Année         170653 non-null  int64  \n",
            " 5   Valence       165971 non-null  float64\n",
            " 6   Acoustique    167095 non-null  float64\n",
            " 7   Dansant       166933 non-null  float64\n",
            " 8   Énergie       165954 non-null  float64\n",
            " 9   Explicite     162402 non-null  object \n",
            " 10  Instrumental  168759 non-null  float64\n",
            " 11  Tonalité      163035 non-null  float64\n",
            " 12  Direct        170002 non-null  float64\n",
            " 13  Intensité     163201 non-null  float64\n",
            " 14  Mode          170565 non-null  object \n",
            " 15  Discours      164072 non-null  float64\n",
            " 16  Tempo         170653 non-null  float64\n",
            " 17  Popularité    170653 non-null  int64  \n",
            "dtypes: float64(10), int64(3), object(5)\n",
            "memory usage: 23.4+ MB\n"
          ],
          "name": "stdout"
        }
      ]
    },
    {
      "cell_type": "code",
      "metadata": {
        "colab": {
          "base_uri": "https://localhost:8080/"
        },
        "id": "bma-elfa30hw",
        "outputId": "c985ffd3-af8b-488b-c9e1-0f9c81569bf7"
      },
      "source": [
        "# Checking NA values of each column\n",
        "df.isna().sum()"
      ],
      "execution_count": 6,
      "outputs": [
        {
          "output_type": "execute_result",
          "data": {
            "text/plain": [
              "ID                 0\n",
              "Artistes           0\n",
              "Titre              0\n",
              "Durée              0\n",
              "Année              0\n",
              "Valence         4682\n",
              "Acoustique      3558\n",
              "Dansant         3720\n",
              "Énergie         4699\n",
              "Explicite       8251\n",
              "Instrumental    1894\n",
              "Tonalité        7618\n",
              "Direct           651\n",
              "Intensité       7452\n",
              "Mode              88\n",
              "Discours        6581\n",
              "Tempo              0\n",
              "Popularité         0\n",
              "dtype: int64"
            ]
          },
          "metadata": {
            "tags": []
          },
          "execution_count": 6
        }
      ]
    },
    {
      "cell_type": "code",
      "metadata": {
        "colab": {
          "base_uri": "https://localhost:8080/"
        },
        "id": "ZxMf2l-HJEnj",
        "outputId": "97aa763a-7af7-4b2e-c34a-84bf4c67d694"
      },
      "source": [
        "# checking the sum of total NA values\n",
        "df.isna().sum().sum()"
      ],
      "execution_count": 7,
      "outputs": [
        {
          "output_type": "execute_result",
          "data": {
            "text/plain": [
              "49194"
            ]
          },
          "metadata": {
            "tags": []
          },
          "execution_count": 7
        }
      ]
    },
    {
      "cell_type": "code",
      "metadata": {
        "id": "psbn0rzaxiyF"
      },
      "source": [
        "#df.describe()"
      ],
      "execution_count": 8,
      "outputs": []
    },
    {
      "cell_type": "code",
      "metadata": {
        "id": "sNxqhRL73mbG"
      },
      "source": [
        "# removing  NA values from df\n",
        "df = df.dropna()"
      ],
      "execution_count": 9,
      "outputs": []
    },
    {
      "cell_type": "code",
      "metadata": {
        "colab": {
          "base_uri": "https://localhost:8080/"
        },
        "id": "YruGHFEexi3H",
        "outputId": "85f72b2c-1e32-49a2-f5a9-4a148eb67ed4"
      },
      "source": [
        "#Checking shape after th eremoval of NA values\n",
        "df.shape"
      ],
      "execution_count": 10,
      "outputs": [
        {
          "output_type": "execute_result",
          "data": {
            "text/plain": [
              "(127175, 18)"
            ]
          },
          "metadata": {
            "tags": []
          },
          "execution_count": 10
        }
      ]
    },
    {
      "cell_type": "code",
      "metadata": {
        "id": "XszJplsWxi8c"
      },
      "source": [
        "#replacing Oui with 1 and Non wih 0\n",
        "df[\"Explicite\"] = df[\"Explicite\"].map({'Oui':1,'Non':0})\n",
        "\n",
        "#replacing Majeur with 1 and Mineur wih 0\n",
        "df[\"Mode\"] = df[\"Mode\"].map({'Majeur':1,'Mineur':0})"
      ],
      "execution_count": 11,
      "outputs": []
    },
    {
      "cell_type": "code",
      "metadata": {
        "colab": {
          "base_uri": "https://localhost:8080/",
          "height": 284
        },
        "id": "9tWL_ukDxjCN",
        "outputId": "cf63c74e-26cf-48bf-e2d2-a0cdbaa5f140"
      },
      "source": [
        "# Checking fiest 2 rows of df\n",
        "df.head(2)"
      ],
      "execution_count": 12,
      "outputs": [
        {
          "output_type": "execute_result",
          "data": {
            "text/html": [
              "<div>\n",
              "<style scoped>\n",
              "    .dataframe tbody tr th:only-of-type {\n",
              "        vertical-align: middle;\n",
              "    }\n",
              "\n",
              "    .dataframe tbody tr th {\n",
              "        vertical-align: top;\n",
              "    }\n",
              "\n",
              "    .dataframe thead th {\n",
              "        text-align: right;\n",
              "    }\n",
              "</style>\n",
              "<table border=\"1\" class=\"dataframe\">\n",
              "  <thead>\n",
              "    <tr style=\"text-align: right;\">\n",
              "      <th></th>\n",
              "      <th>ID</th>\n",
              "      <th>Artistes</th>\n",
              "      <th>Titre</th>\n",
              "      <th>Durée</th>\n",
              "      <th>Année</th>\n",
              "      <th>Valence</th>\n",
              "      <th>Acoustique</th>\n",
              "      <th>Dansant</th>\n",
              "      <th>Énergie</th>\n",
              "      <th>Explicite</th>\n",
              "      <th>Instrumental</th>\n",
              "      <th>Tonalité</th>\n",
              "      <th>Direct</th>\n",
              "      <th>Intensité</th>\n",
              "      <th>Mode</th>\n",
              "      <th>Discours</th>\n",
              "      <th>Tempo</th>\n",
              "      <th>Popularité</th>\n",
              "    </tr>\n",
              "  </thead>\n",
              "  <tbody>\n",
              "    <tr>\n",
              "      <th>0</th>\n",
              "      <td>4BJqT0PrAfrxzMOxytFOIz</td>\n",
              "      <td>['Sergei Rachmaninoff', 'James Levine', 'Berli...</td>\n",
              "      <td>Piano Concerto No. 3 in D Minor, Op. 30: III. ...</td>\n",
              "      <td>831667</td>\n",
              "      <td>1921</td>\n",
              "      <td>0.0594</td>\n",
              "      <td>0.982</td>\n",
              "      <td>0.279</td>\n",
              "      <td>0.211</td>\n",
              "      <td>0</td>\n",
              "      <td>0.878</td>\n",
              "      <td>10.0</td>\n",
              "      <td>0.665</td>\n",
              "      <td>-20.096</td>\n",
              "      <td>1</td>\n",
              "      <td>0.0366</td>\n",
              "      <td>80.954</td>\n",
              "      <td>4</td>\n",
              "    </tr>\n",
              "    <tr>\n",
              "      <th>2</th>\n",
              "      <td>1o6I8BglA6ylDMrIELygv1</td>\n",
              "      <td>['KHP Kridhamardawa Karaton Ngayogyakarta Hadi...</td>\n",
              "      <td>Gati Bali</td>\n",
              "      <td>500062</td>\n",
              "      <td>1921</td>\n",
              "      <td>0.0394</td>\n",
              "      <td>0.961</td>\n",
              "      <td>0.328</td>\n",
              "      <td>0.166</td>\n",
              "      <td>0</td>\n",
              "      <td>0.913</td>\n",
              "      <td>3.0</td>\n",
              "      <td>0.101</td>\n",
              "      <td>-14.850</td>\n",
              "      <td>1</td>\n",
              "      <td>0.0339</td>\n",
              "      <td>110.339</td>\n",
              "      <td>5</td>\n",
              "    </tr>\n",
              "  </tbody>\n",
              "</table>\n",
              "</div>"
            ],
            "text/plain": [
              "                       ID  ... Popularité\n",
              "0  4BJqT0PrAfrxzMOxytFOIz  ...          4\n",
              "2  1o6I8BglA6ylDMrIELygv1  ...          5\n",
              "\n",
              "[2 rows x 18 columns]"
            ]
          },
          "metadata": {
            "tags": []
          },
          "execution_count": 12
        }
      ]
    },
    {
      "cell_type": "code",
      "metadata": {
        "colab": {
          "base_uri": "https://localhost:8080/"
        },
        "id": "h2B0zRVWxjIU",
        "outputId": "8041d862-927a-4428-fbf4-e694fb530336"
      },
      "source": [
        "# cheking data types of each column in df(loaded Spotify.csv file)\n",
        "df.info()"
      ],
      "execution_count": 13,
      "outputs": [
        {
          "output_type": "stream",
          "text": [
            "<class 'pandas.core.frame.DataFrame'>\n",
            "Int64Index: 127175 entries, 0 to 170652\n",
            "Data columns (total 18 columns):\n",
            " #   Column        Non-Null Count   Dtype  \n",
            "---  ------        --------------   -----  \n",
            " 0   ID            127175 non-null  object \n",
            " 1   Artistes      127175 non-null  object \n",
            " 2   Titre         127175 non-null  object \n",
            " 3   Durée         127175 non-null  int64  \n",
            " 4   Année         127175 non-null  int64  \n",
            " 5   Valence       127175 non-null  float64\n",
            " 6   Acoustique    127175 non-null  float64\n",
            " 7   Dansant       127175 non-null  float64\n",
            " 8   Énergie       127175 non-null  float64\n",
            " 9   Explicite     127175 non-null  int64  \n",
            " 10  Instrumental  127175 non-null  float64\n",
            " 11  Tonalité      127175 non-null  float64\n",
            " 12  Direct        127175 non-null  float64\n",
            " 13  Intensité     127175 non-null  float64\n",
            " 14  Mode          127175 non-null  int64  \n",
            " 15  Discours      127175 non-null  float64\n",
            " 16  Tempo         127175 non-null  float64\n",
            " 17  Popularité    127175 non-null  int64  \n",
            "dtypes: float64(10), int64(5), object(3)\n",
            "memory usage: 18.4+ MB\n"
          ],
          "name": "stdout"
        }
      ]
    },
    {
      "cell_type": "code",
      "metadata": {
        "colab": {
          "base_uri": "https://localhost:8080/",
          "height": 317
        },
        "id": "_8F0O5qRNfl9",
        "outputId": "0a495341-bf91-40a6-f94d-f5957b971be8"
      },
      "source": [
        "#df important calculations\n",
        "df.describe()"
      ],
      "execution_count": 14,
      "outputs": [
        {
          "output_type": "execute_result",
          "data": {
            "text/html": [
              "<div>\n",
              "<style scoped>\n",
              "    .dataframe tbody tr th:only-of-type {\n",
              "        vertical-align: middle;\n",
              "    }\n",
              "\n",
              "    .dataframe tbody tr th {\n",
              "        vertical-align: top;\n",
              "    }\n",
              "\n",
              "    .dataframe thead th {\n",
              "        text-align: right;\n",
              "    }\n",
              "</style>\n",
              "<table border=\"1\" class=\"dataframe\">\n",
              "  <thead>\n",
              "    <tr style=\"text-align: right;\">\n",
              "      <th></th>\n",
              "      <th>Durée</th>\n",
              "      <th>Année</th>\n",
              "      <th>Valence</th>\n",
              "      <th>Acoustique</th>\n",
              "      <th>Dansant</th>\n",
              "      <th>Énergie</th>\n",
              "      <th>Explicite</th>\n",
              "      <th>Instrumental</th>\n",
              "      <th>Tonalité</th>\n",
              "      <th>Direct</th>\n",
              "      <th>Intensité</th>\n",
              "      <th>Mode</th>\n",
              "      <th>Discours</th>\n",
              "      <th>Tempo</th>\n",
              "      <th>Popularité</th>\n",
              "    </tr>\n",
              "  </thead>\n",
              "  <tbody>\n",
              "    <tr>\n",
              "      <th>count</th>\n",
              "      <td>1.271750e+05</td>\n",
              "      <td>127175.000000</td>\n",
              "      <td>127175.000000</td>\n",
              "      <td>127175.000000</td>\n",
              "      <td>127175.000000</td>\n",
              "      <td>127175.000000</td>\n",
              "      <td>127175.000000</td>\n",
              "      <td>127175.000000</td>\n",
              "      <td>127175.000000</td>\n",
              "      <td>127175.000000</td>\n",
              "      <td>127175.000000</td>\n",
              "      <td>127175.000000</td>\n",
              "      <td>127175.000000</td>\n",
              "      <td>127175.000000</td>\n",
              "      <td>127175.000000</td>\n",
              "    </tr>\n",
              "    <tr>\n",
              "      <th>mean</th>\n",
              "      <td>2.308640e+05</td>\n",
              "      <td>1976.815058</td>\n",
              "      <td>0.528826</td>\n",
              "      <td>0.501495</td>\n",
              "      <td>0.537129</td>\n",
              "      <td>0.482753</td>\n",
              "      <td>0.084482</td>\n",
              "      <td>0.167233</td>\n",
              "      <td>5.202445</td>\n",
              "      <td>0.205821</td>\n",
              "      <td>-11.469217</td>\n",
              "      <td>0.706955</td>\n",
              "      <td>0.098206</td>\n",
              "      <td>116.852930</td>\n",
              "      <td>31.448524</td>\n",
              "    </tr>\n",
              "    <tr>\n",
              "      <th>std</th>\n",
              "      <td>1.260632e+05</td>\n",
              "      <td>25.900823</td>\n",
              "      <td>0.263401</td>\n",
              "      <td>0.375991</td>\n",
              "      <td>0.176165</td>\n",
              "      <td>0.267597</td>\n",
              "      <td>0.278110</td>\n",
              "      <td>0.313868</td>\n",
              "      <td>3.515092</td>\n",
              "      <td>0.174962</td>\n",
              "      <td>5.689741</td>\n",
              "      <td>0.455161</td>\n",
              "      <td>0.162663</td>\n",
              "      <td>30.715727</td>\n",
              "      <td>21.805836</td>\n",
              "    </tr>\n",
              "    <tr>\n",
              "      <th>min</th>\n",
              "      <td>5.991000e+03</td>\n",
              "      <td>1921.000000</td>\n",
              "      <td>0.000000</td>\n",
              "      <td>0.000000</td>\n",
              "      <td>0.000000</td>\n",
              "      <td>0.000000</td>\n",
              "      <td>0.000000</td>\n",
              "      <td>0.000000</td>\n",
              "      <td>0.000000</td>\n",
              "      <td>0.000000</td>\n",
              "      <td>-60.000000</td>\n",
              "      <td>0.000000</td>\n",
              "      <td>0.000000</td>\n",
              "      <td>0.000000</td>\n",
              "      <td>0.000000</td>\n",
              "    </tr>\n",
              "    <tr>\n",
              "      <th>25%</th>\n",
              "      <td>1.698005e+05</td>\n",
              "      <td>1956.000000</td>\n",
              "      <td>0.317000</td>\n",
              "      <td>0.101000</td>\n",
              "      <td>0.415000</td>\n",
              "      <td>0.255000</td>\n",
              "      <td>0.000000</td>\n",
              "      <td>0.000000</td>\n",
              "      <td>2.000000</td>\n",
              "      <td>0.098700</td>\n",
              "      <td>-14.607000</td>\n",
              "      <td>0.000000</td>\n",
              "      <td>0.034900</td>\n",
              "      <td>93.334000</td>\n",
              "      <td>11.000000</td>\n",
              "    </tr>\n",
              "    <tr>\n",
              "      <th>50%</th>\n",
              "      <td>2.074270e+05</td>\n",
              "      <td>1978.000000</td>\n",
              "      <td>0.540000</td>\n",
              "      <td>0.515000</td>\n",
              "      <td>0.548000</td>\n",
              "      <td>0.471000</td>\n",
              "      <td>0.000000</td>\n",
              "      <td>0.000220</td>\n",
              "      <td>5.000000</td>\n",
              "      <td>0.136000</td>\n",
              "      <td>-10.584000</td>\n",
              "      <td>1.000000</td>\n",
              "      <td>0.045000</td>\n",
              "      <td>114.714000</td>\n",
              "      <td>33.000000</td>\n",
              "    </tr>\n",
              "    <tr>\n",
              "      <th>75%</th>\n",
              "      <td>2.622130e+05</td>\n",
              "      <td>1999.000000</td>\n",
              "      <td>0.748000</td>\n",
              "      <td>0.892000</td>\n",
              "      <td>0.668000</td>\n",
              "      <td>0.704000</td>\n",
              "      <td>0.000000</td>\n",
              "      <td>0.102000</td>\n",
              "      <td>8.000000</td>\n",
              "      <td>0.261000</td>\n",
              "      <td>-7.184000</td>\n",
              "      <td>1.000000</td>\n",
              "      <td>0.075400</td>\n",
              "      <td>135.568000</td>\n",
              "      <td>48.000000</td>\n",
              "    </tr>\n",
              "    <tr>\n",
              "      <th>max</th>\n",
              "      <td>5.403500e+06</td>\n",
              "      <td>2020.000000</td>\n",
              "      <td>1.000000</td>\n",
              "      <td>0.996000</td>\n",
              "      <td>0.986000</td>\n",
              "      <td>1.000000</td>\n",
              "      <td>1.000000</td>\n",
              "      <td>1.000000</td>\n",
              "      <td>11.000000</td>\n",
              "      <td>1.000000</td>\n",
              "      <td>3.855000</td>\n",
              "      <td>1.000000</td>\n",
              "      <td>0.969000</td>\n",
              "      <td>243.507000</td>\n",
              "      <td>99.000000</td>\n",
              "    </tr>\n",
              "  </tbody>\n",
              "</table>\n",
              "</div>"
            ],
            "text/plain": [
              "              Durée          Année  ...          Tempo     Popularité\n",
              "count  1.271750e+05  127175.000000  ...  127175.000000  127175.000000\n",
              "mean   2.308640e+05    1976.815058  ...     116.852930      31.448524\n",
              "std    1.260632e+05      25.900823  ...      30.715727      21.805836\n",
              "min    5.991000e+03    1921.000000  ...       0.000000       0.000000\n",
              "25%    1.698005e+05    1956.000000  ...      93.334000      11.000000\n",
              "50%    2.074270e+05    1978.000000  ...     114.714000      33.000000\n",
              "75%    2.622130e+05    1999.000000  ...     135.568000      48.000000\n",
              "max    5.403500e+06    2020.000000  ...     243.507000      99.000000\n",
              "\n",
              "[8 rows x 15 columns]"
            ]
          },
          "metadata": {
            "tags": []
          },
          "execution_count": 14
        }
      ]
    },
    {
      "cell_type": "code",
      "metadata": {
        "colab": {
          "base_uri": "https://localhost:8080/"
        },
        "id": "MW77j4ueuzIO",
        "outputId": "46a2c929-a590-4bd3-f298-2fe960619f0d"
      },
      "source": [
        "# assiging Anee column of df to x\n",
        "x = df['Année']\n",
        "\n",
        "# assiging Popularité column of df to y\n",
        "y = df['Popularité']\n",
        "\n",
        "# Change the size of the figure (in inches).\n",
        "plt.figure(figsize=(17,6)) \n",
        "\n",
        "# Bar plot for Popularité over year\n",
        "plt.bar(x, y, label = 'Popularité', color = 'dodgerblue',  width = 1, align = 'center', alpha = 0.7)\n",
        "\n",
        "# X-axis label.\n",
        "plt.xlabel('Année', fontsize = 16)\n",
        "\n",
        "# Y-axis label.\n",
        "plt.ylabel('Popularité', fontsize = 16)\n",
        "\n",
        "# Title of the plot.\n",
        "plt.title('Popularité \\n1921 and 2020', fontsize = 16)\n",
        "\n",
        "# plt.grid(True)\n",
        "plt.grid(axis='y')\n",
        "\n",
        "# Legend for the plot.\n",
        "plt.legend()\n"
      ],
      "execution_count": null,
      "outputs": [
        {
          "output_type": "execute_result",
          "data": {
            "text/plain": [
              "<matplotlib.legend.Legend at 0x7fafa47d0410>"
            ]
          },
          "metadata": {
            "tags": []
          },
          "execution_count": 15
        }
      ]
    },
    {
      "cell_type": "code",
      "metadata": {
        "id": "af68XC1kZAF5"
      },
      "source": [
        ""
      ],
      "execution_count": null,
      "outputs": []
    },
    {
      "cell_type": "code",
      "metadata": {
        "id": "hG9OR_ynTE0X"
      },
      "source": [
        "# Change the size of the figure (in inches).\n",
        "plt.figure(figsize=(17,6)) \n",
        "\n",
        "x = df.groupby(\"Artistes\")[\"Popularité\"].sum().sort_values(ascending=False).head(10)\n",
        "\n",
        "# bar plot of top 10 artist Artistes w.r.t Popularité\n",
        "ax = sns.barplot(x.index,x)\n",
        "\n",
        "#giving Lable and title\n",
        "ax.set_title(\"Top Artistes with Popularité\")\n",
        "ax.set_ylabel(\"Popularité\")\n",
        "plt.xticks(rotation = 90)"
      ],
      "execution_count": null,
      "outputs": []
    },
    {
      "cell_type": "code",
      "metadata": {
        "id": "mhkC1HI7Pg3t"
      },
      "source": [
        "# Change the size of the figure (in inches).\n",
        "plt.figure(figsize=(17,6)) \n",
        "\n",
        "#data distribution of Popularité (for songs with Popularity more than 90)  against the density distribution. \n",
        "sns.distplot(df['Popularité'])\n",
        "\n",
        "#giving title\n",
        "plt.title('Popularity Distribution')"
      ],
      "execution_count": null,
      "outputs": []
    },
    {
      "cell_type": "code",
      "metadata": {
        "id": "cosyI-fKOJtb"
      },
      "source": [
        "#Mode indicates the modality, major (1) or minor (0) of a track,\n",
        "#the type of scale from which its melodic content is derived. Since\n",
        "#a Major mode sounds more cheerful than a Minor mode, it is\n",
        "#likely that a Major mode is more popularly used in hit songs.\n",
        "\n",
        "\n",
        "# Change the size of the figure (in inches).\n",
        "plt.figure(figsize=(17,6)) \n",
        "\n",
        "#bar plot based on mode\n",
        "sns.barplot(x = 'Mode', y = 'Popularité', data = df)\n",
        "\n",
        "#giving title\n",
        "plt.title('Popularity Based on Mode')"
      ],
      "execution_count": null,
      "outputs": []
    },
    {
      "cell_type": "code",
      "metadata": {
        "id": "ZALpQ8ZbOiBC"
      },
      "source": [
        "#  Change the size of the figure (in inches).\n",
        "plt.figure(figsize=(17,6)) \n",
        "\n",
        "# Separarting the Popularité > 90\n",
        "pop_90 = df[df.Popularité > 90]\n",
        "\n",
        "#data distribution of Acoustique (for songs with Popularity more than 90)  against the density distribution. \n",
        "sns.distplot(pop_90 ['Acoustique'])\n",
        "\n",
        "# giving title\n",
        "plt.title('Acoustique for Songs with More than 90 Popularity')"
      ],
      "execution_count": null,
      "outputs": []
    },
    {
      "cell_type": "markdown",
      "metadata": {
        "id": "uXt6KtaX0gNz"
      },
      "source": [
        "**2) Develop a predictive model of the variable \"Popularity\" by discussing the methodology and results.**"
      ]
    },
    {
      "cell_type": "code",
      "metadata": {
        "id": "Sv9k2vkVzT8v"
      },
      "source": [
        "# loading Data into df\n",
        "df = pd.read_csv(\"Spotify.csv\",sep=',')"
      ],
      "execution_count": null,
      "outputs": []
    },
    {
      "cell_type": "code",
      "metadata": {
        "id": "4zmB5k2pzhuM"
      },
      "source": [
        "df = df.dropna(subset = [\"Popularité\"])"
      ],
      "execution_count": null,
      "outputs": []
    },
    {
      "cell_type": "code",
      "metadata": {
        "id": "mzpX8euuc1rX"
      },
      "source": [
        "df.nunique()"
      ],
      "execution_count": null,
      "outputs": []
    },
    {
      "cell_type": "markdown",
      "metadata": {
        "id": "UyAwxYXii0Ld"
      },
      "source": [
        "Categorical variables \n",
        "*   ID\n",
        "*   Artistes\n",
        "*   Titre\n",
        "\n",
        " have a large number of unique values, which did not help  our machine learning model to draw general conclusions."
      ]
    },
    {
      "cell_type": "code",
      "metadata": {
        "id": "gRl5pSuIjtG8"
      },
      "source": [
        "# Créez un dataframe nommé \"X\" qui contient toutes les colonnes ID\",\"Artistes\",\"Titre.\n",
        "X = df.drop([\"ID\",\"Artistes\",\"Titre\"], axis = 1)"
      ],
      "execution_count": null,
      "outputs": []
    },
    {
      "cell_type": "code",
      "metadata": {
        "id": "4Maa0AMEkGPG"
      },
      "source": [
        "# Créez une série nommée \"y\" qui contient uniquement la colonne des Popularité\n",
        "df.loc[df['Popularité'] < 57, 'Popularité '] = 0 \n",
        "df.loc[df['Popularité'] >= 57, 'Popularité '] = 1\n",
        "df.loc[df['Popularité'] == 1 ]\n",
        "y = df[\"Popularité\"]"
      ],
      "execution_count": null,
      "outputs": []
    },
    {
      "cell_type": "code",
      "metadata": {
        "id": "xVvLePxykTY3"
      },
      "source": [
        "# Créez une liste qui contient uniquement les noms des colonnes catégorielles du dataframe X\n",
        "cat_cols = list(X.select_dtypes(include = [\"object\"]))\n",
        "\n",
        "print(\"Les variables catégorielles sont:\\n{0}\".format(cat_cols))"
      ],
      "execution_count": null,
      "outputs": []
    },
    {
      "cell_type": "code",
      "metadata": {
        "id": "exrTWnTqkUxr"
      },
      "source": [
        "# Créez une liste qui contient uniquement les noms des colonnes numériques du dataframe X\n",
        "num_cols = list(X.select_dtypes(exclude = [\"object\"]))\n",
        "\n",
        "print(\"Les variables numériques sont:\\n{0}\".format(num_cols))"
      ],
      "execution_count": null,
      "outputs": []
    },
    {
      "cell_type": "code",
      "metadata": {
        "id": "yfYKckNnkkWP"
      },
      "source": [
        "from sklearn.model_selection import train_test_split"
      ],
      "execution_count": null,
      "outputs": []
    },
    {
      "cell_type": "code",
      "metadata": {
        "id": "eAqrRn1okkgF"
      },
      "source": [
        "X_train, X_val, y_train, y_val = train_test_split(X, y, test_size = 0.2, random_state = 1)"
      ],
      "execution_count": null,
      "outputs": []
    },
    {
      "cell_type": "code",
      "metadata": {
        "id": "q9_7tpQ2lCxU"
      },
      "source": [
        "# Créez les deux dataframes (entraînement et validation) X_train_num et X_val_num qui contiennent les colonnes numériques\n",
        "X_train_num = X_train[num_cols]\n",
        "X_val_num = X_val[num_cols]"
      ],
      "execution_count": null,
      "outputs": []
    },
    {
      "cell_type": "code",
      "metadata": {
        "id": "tTK2XmqrlE7A"
      },
      "source": [
        "# Créez les deux dataframes (entraînement et validation) X_train_cat et X_val_cat qui contiennent les colonnes catégorielles\n",
        "X_train_cat = X_train[cat_cols]\n",
        "X_val_cat = X_val[cat_cols]\n"
      ],
      "execution_count": null,
      "outputs": []
    },
    {
      "cell_type": "markdown",
      "metadata": {
        "id": "kWS255jflrtV"
      },
      "source": [
        "Regarding data transformation, we show you the following processes:\n",
        "Imputation of missing data, \n",
        "Transformation of categorical variables into binary variables, \n",
        "Scaling "
      ]
    },
    {
      "cell_type": "code",
      "metadata": {
        "id": "k9SG1C5clsoA"
      },
      "source": [
        "index_train = X_train.index\n",
        "index_val = X_val.index"
      ],
      "execution_count": null,
      "outputs": []
    },
    {
      "cell_type": "code",
      "metadata": {
        "id": "3r9BNtasmdVj"
      },
      "source": [
        "from sklearn.impute import SimpleImputer"
      ],
      "execution_count": null,
      "outputs": []
    },
    {
      "cell_type": "code",
      "metadata": {
        "id": "9SwzWqIXmhAV"
      },
      "source": [
        "# On trouve la médiane de chaque colonne numérique\n",
        "imp_num = SimpleImputer(strategy = \"median\").fit(X_train_num)\n",
        "\n",
        "# On applique la médiane à chaque valeur manquante des jeux d'entraînement et de validation\n",
        "X_train_num = imp_num.transform(X_train_num)\n",
        "X_val_num = imp_num.transform(X_val_num)\n",
        "\n",
        "# On convertit les arrays obtenus en dataframe en reprenant les mêmes noms de colonnes\n",
        "X_train_num = pd.DataFrame(X_train_num, columns = num_cols, index = index_train)\n",
        "X_val_num = pd.DataFrame(X_val_num, columns = num_cols, index = index_val)"
      ],
      "execution_count": null,
      "outputs": []
    },
    {
      "cell_type": "code",
      "metadata": {
        "id": "YL0N3onZmjMX"
      },
      "source": [
        "# Préparation de l'imputation\n",
        "imp_cat = SimpleImputer(strategy = \"most_frequent\")\n",
        "\n",
        "# On trouve la modalité la plus fréquente de chaque colonne catégorielle et on l'applique directement\n",
        "X_train_cat = imp_cat.fit_transform(X_train_cat)\n",
        "X_val_cat = imp_cat.transform(X_val_cat)\n",
        "\n",
        "# On convertit les arrays obtenus en dataframe en reprenant les mêmes noms de colonnes\n",
        "X_train_cat = pd.DataFrame(X_train_cat, columns = cat_cols, index = index_train)\n",
        "X_val_cat = pd.DataFrame(X_val_cat, columns = cat_cols, index = index_val)"
      ],
      "execution_count": null,
      "outputs": []
    },
    {
      "cell_type": "code",
      "metadata": {
        "id": "SBtYuxGaya8K"
      },
      "source": [
        "from sklearn.compose import ColumnTransformer\n",
        "from sklearn.preprocessing import LabelEncoder, OneHotEncoder\n",
        "columnTransformer = ColumnTransformer(\n",
        "    transformers = [(\"encoder\", OneHotEncoder(drop = \"first\"), cat_cols)],\n",
        "    remainder = \"passthrough\"\n",
        ")"
      ],
      "execution_count": null,
      "outputs": []
    },
    {
      "cell_type": "code",
      "metadata": {
        "id": "dqi-yHGnueP-"
      },
      "source": [
        "X_train_cat = pd.DataFrame(\n",
        "    columnTransformer.fit_transform(X_train_cat).toarray(),\n",
        "    columns = columnTransformer.get_feature_names(),\n",
        "    index = index_train\n",
        ")"
      ],
      "execution_count": null,
      "outputs": []
    },
    {
      "cell_type": "code",
      "metadata": {
        "id": "dMoaBi6Nufyp"
      },
      "source": [
        "# Encodez les colonnes catégorielles de l'ensemble de validation X_val_cat\n",
        "X_val_cat = pd.DataFrame(\n",
        "    columnTransformer.transform(X_val_cat).toarray(),\n",
        "    columns = columnTransformer.get_feature_names(),\n",
        "    index = index_val\n",
        ")"
      ],
      "execution_count": null,
      "outputs": []
    },
    {
      "cell_type": "code",
      "metadata": {
        "id": "6Cj6BDZZuix3"
      },
      "source": [
        "from sklearn.preprocessing import StandardScaler"
      ],
      "execution_count": null,
      "outputs": []
    },
    {
      "cell_type": "code",
      "metadata": {
        "id": "MF3eQ6Bgukeo"
      },
      "source": [
        "X_train = pd.concat([X_train_num, X_train_cat], axis = 1)\n",
        "X_val = pd.concat([X_val_num, X_val_cat], axis = 1)"
      ],
      "execution_count": null,
      "outputs": []
    },
    {
      "cell_type": "code",
      "metadata": {
        "id": "aflohkQtumDc"
      },
      "source": [
        "sc = StandardScaler()\n",
        "X_train = sc.fit_transform(X_train)\n",
        "X_val = sc.transform(X_val)\n",
        "\n",
        "#On fit sur entrainement et on transform sur tous les echantillons\n",
        "\n",
        "X_train"
      ],
      "execution_count": null,
      "outputs": []
    },
    {
      "cell_type": "code",
      "metadata": {
        "id": "kU20SMA7uu8z"
      },
      "source": [
        "from sklearn.linear_model import LogisticRegression\n",
        "from sklearn.ensemble import RandomForestClassifier \n",
        "from sklearn.metrics import make_scorer, accuracy_score, roc_auc_score "
      ],
      "execution_count": null,
      "outputs": []
    },
    {
      "cell_type": "code",
      "metadata": {
        "id": "Z8GnDn1h-6-X"
      },
      "source": [
        "Model = RandomForestClassifier()\n",
        "Model.fit(X_train, y_train)\n",
        "y_pred = Model.predict(X_val)\n",
        "Model_Accuracy = accuracy_score(y_val, Model_Predict)\n",
        "print(\"Accuracy: \" + str(Model_Accuracy))\n"
      ],
      "execution_count": null,
      "outputs": []
    },
    {
      "cell_type": "code",
      "metadata": {
        "id": "x_rjDY3fuylK"
      },
      "source": [
        "from sklearn.metrics import mean_absolute_error as mae"
      ],
      "execution_count": null,
      "outputs": []
    },
    {
      "cell_type": "code",
      "metadata": {
        "id": "RxJ6Zdz8u2lx"
      },
      "source": [
        "erreur = mae(y_val, y_pred)\n",
        "\n",
        "print(\"La moyenne absolue des erreurs est de {0}\".format(erreur))"
      ],
      "execution_count": null,
      "outputs": []
    }
  ]
}